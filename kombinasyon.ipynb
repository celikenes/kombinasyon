{
  "nbformat": 4,
  "nbformat_minor": 0,
  "metadata": {
    "colab": {
      "name": "Untitled2.ipynb",
      "version": "0.3.2",
      "provenance": [],
      "include_colab_link": true
    },
    "kernelspec": {
      "name": "python3",
      "display_name": "Python 3"
    }
  },
  "cells": [
    {
      "cell_type": "markdown",
      "metadata": {
        "id": "view-in-github",
        "colab_type": "text"
      },
      "source": [
        "<a href=\"https://colab.research.google.com/github/celikenes/kombinasyon/blob/master/kombinasyon.ipynb\" target=\"_parent\"><img src=\"https://colab.research.google.com/assets/colab-badge.svg\" alt=\"Open In Colab\"/></a>"
      ]
    },
    {
      "metadata": {
        "id": "4lmQuLn7edDY",
        "colab_type": "text"
      },
      "cell_type": "markdown",
      "source": [
        "## **Kombinasyon**\n",
        "\n",
        "### Soru\n",
        "\n",
        "Bir torbada 3 mavi, 4 kirmizi, 5 yesil top vardir. \n",
        "Torbadan 3 top cekildiginde ücününde farkli renkte olma alasiligi nedir.\n",
        "\n",
        "olay = {MKY,...}\n",
        "ornek_uzay = C(12,3)\n",
        "\n",
        "### Cozum\n",
        "\n",
        "olasilik degeri = [ C(3,1) x C(4,1) x C(5,1) ] / C(12,3)"
      ]
    },
    {
      "metadata": {
        "id": "B_tU5h0YfVLs",
        "colab_type": "code",
        "colab": {
          "base_uri": "https://localhost:8080/",
          "height": 85
        },
        "outputId": "e743226c-7b87-4654-eb40-a3036858ee87"
      },
      "cell_type": "code",
      "source": [
        "\"\"\"\"\n",
        "degiskenler:\n",
        "first: C(n,r) deki n degeri\n",
        "second: C(n,r) deki r degeri\n",
        "minus: C(n,r) paydadaki eksili deger\n",
        "example: islem sonucu\n",
        "blue: mavi top sayisi\n",
        "red: kirmizi top sayisi\n",
        "green: yesil top sayisi\n",
        "calc_combination: kombinasyon hesaplayan fonksiyon\n",
        "\"\"\"\n",
        "def calc_combination(first, second):\n",
        "\n",
        "    minus = first - second\n",
        "\n",
        "    first_f = 1\n",
        "    secon_f = 1\n",
        "    minus_f = 1\n",
        "\n",
        "    while first != 1:\n",
        "        first_f = first * first_f\n",
        "        first = first - 1\n",
        "\n",
        "    while second != 1:\n",
        "        secon_f = second * secon_f\n",
        "        second = second - 1\n",
        "\n",
        "    while minus != 1:\n",
        "        minus_f = minus * minus_f\n",
        "        minus = minus - 1\n",
        "\n",
        "    combination_result = first_f / (minus_f * secon_f)\n",
        "\n",
        "    return combination_result\n",
        "\n",
        "blue = int(input (\"mavi top sayisi: \"))\n",
        "red = int(input (\"kirmizi top sayisi: \"))\n",
        "green = int(input (\"yesil top sayisi: \"))\n",
        "    \n",
        "    # calc_combination'a 3 maviden 1 hesaplaması için değer gönderdik\n",
        "    # calc_combination'a 4 kırmızıdan 1 hesaplaması için değer gönderdik\n",
        "    # calc_combination'a 5 yeşilden 1 hesaplaması için değer gönderdik\n",
        "    # payda da tüm top sayısından yapılacak seçim için değer yolladık 12 top var\n",
        "    # renklerin toplamı bir de 3 gönderdik oda seçilecek top sayısı\n",
        "    \n",
        "example = (calc_combination(blue, 1) * calc_combination(red, 1) * calc_combination(green, 1)) / calc_combination(blue+red+green, 3)\n",
        "print (\"olasilik sonucu: \",example)\n"
      ],
      "execution_count": 3,
      "outputs": [
        {
          "output_type": "stream",
          "text": [
            "mavi top sayisi: 5\n",
            "kirmizi top sayisi: 6\n",
            "yesil top sayisi: 3\n",
            "olasilik sonucu:  0.24725274725274726\n"
          ],
          "name": "stdout"
        }
      ]
    }
  ]
}